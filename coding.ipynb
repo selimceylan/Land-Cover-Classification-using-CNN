{
 "cells": [
  {
   "cell_type": "code",
   "execution_count": 1,
   "metadata": {},
   "outputs": [
    {
     "name": "stdout",
     "output_type": "stream",
     "text": [
      "Imports OK\n"
     ]
    }
   ],
   "source": [
    "%matplotlib inline\n",
    "import numpy as np\n",
    "from skimage import io\n",
    "import matplotlib\n",
    "import matplotlib.pyplot as plt\n",
    "import os\n",
    "from glob import glob\n",
    "from tqdm import tqdm\n",
    "import torch\n",
    "import torch.nn as nn\n",
    "from torchsummary import summary\n",
    "from torchvision import transforms, datasets\n",
    "from torch.optim import Adam\n",
    "from torch.optim.lr_scheduler import ExponentialLR\n",
    "from torch.utils.data import DataLoader, Dataset\n",
    "\n",
    "\n",
    "from network import Net\n",
    "\n",
    "\n",
    "%load_ext autoreload\n",
    "%autoreload 2\n",
    "\n",
    "\n",
    "if not os.path.exists('./outputs'):\n",
    "    os.mkdir('./outputs')\n",
    "\n",
    "print('Imports OK')"
   ]
  },
  {
   "cell_type": "code",
   "execution_count": 2,
   "metadata": {},
   "outputs": [
    {
     "name": "stdout",
     "output_type": "stream",
     "text": [
      "Parameters OK\n"
     ]
    }
   ],
   "source": [
    "# Global parameters\n",
    "\n",
    "# If USE_CUDA is True, computations will be done using the GPU (may not work in all systems)\n",
    "# This will make the calculations happen faster\n",
    "USE_CUDA = True\n",
    "\n",
    "DATASET_PATH = './EuroSAT_data'\n",
    "\n",
    "BATCH_SIZE = 128 # Number of images that are used for calculating gradients at each step\n",
    "\n",
    "NUM_EPOCHS = 20 # Number of times we will go through all the training images\n",
    "\n",
    "LEARNING_RATE = 1e-3 # Controls the step size\n",
    "MOMENTUM = 0.9 # Momentum for the gradient descent\n",
    "WEIGHT_DECAY = 1e-4 # Regularization factor to reduce overfitting\n",
    "\n",
    "\n",
    "print('Parameters OK')"
   ]
  },
  {
   "cell_type": "code",
   "execution_count": 3,
   "metadata": {},
   "outputs": [
    {
     "name": "stdout",
     "output_type": "stream",
     "text": [
      "Calculated means: tensor([0.3440, 0.3801, 0.4077])\n",
      "Calculated stds: tensor([0.0930, 0.0647, 0.0541])\n"
     ]
    }
   ],
   "source": [
    "# Find mean and std for train.\n",
    "train_dir = os.path.join(DATASET_PATH,'train')\n",
    "train_data = datasets.ImageFolder(root=train_dir,\n",
    "                                  transform=transforms.ToTensor())\n",
    "\n",
    "means = torch.zeros(3)\n",
    "stds = torch.zeros(3)\n",
    "\n",
    "for img, label in train_data:\n",
    "    means += torch.mean(img, dim=(1, 2))\n",
    "    stds += torch.std(img, dim=(1, 2))\n",
    "\n",
    "means /= len(train_data)\n",
    "stds /= len(train_data)\n",
    "\n",
    "print(f'Calculated means: {means}')\n",
    "print(f'Calculated stds: {stds}')"
   ]
  },
  {
   "cell_type": "code",
   "execution_count": 4,
   "metadata": {},
   "outputs": [
    {
     "name": "stdout",
     "output_type": "stream",
     "text": [
      "Calculated means: tensor([0.3460, 0.3810, 0.4083])\n",
      "Calculated stds: tensor([0.0939, 0.0652, 0.0546])\n"
     ]
    }
   ],
   "source": [
    "# Find mean and std for test.\n",
    "test_dir = os.path.join(DATASET_PATH,'test')\n",
    "test_data = datasets.ImageFolder(root=test_dir,\n",
    "                                 transform=transforms.ToTensor())\n",
    "\n",
    "means = torch.zeros(3)\n",
    "stds = torch.zeros(3)\n",
    "\n",
    "for img, label in test_data:\n",
    "    means += torch.mean(img, dim=(1, 2))\n",
    "    stds += torch.std(img, dim=(1, 2))\n",
    "\n",
    "means /= len(test_data)\n",
    "stds /= len(test_data)\n",
    "\n",
    "print(f'Calculated means: {means}')\n",
    "print(f'Calculated stds: {stds}')"
   ]
  },
  {
   "cell_type": "code",
   "execution_count": 5,
   "metadata": {},
   "outputs": [],
   "source": [
    "# Create transformations.\n",
    "train_transform = transforms.Compose([\n",
    "                                transforms.RandomRotation(5),\n",
    "                                transforms.RandomHorizontalFlip(),\n",
    "                                transforms.ToTensor(),\n",
    "                                transforms.Normalize([0.3440, 0.3801, 0.4077], [0.0930, 0.0647, 0.0541])\n",
    "                                ])\n",
    "test_transform = transforms.Compose([\n",
    "                                transforms.ToTensor(),\n",
    "                                transforms.Normalize([0.3460, 0.3810, 0.4083], [0.0939, 0.0652, 0.0546])\n",
    "                                ])\n"
   ]
  },
  {
   "cell_type": "code",
   "execution_count": 6,
   "metadata": {},
   "outputs": [
    {
     "name": "stdout",
     "output_type": "stream",
     "text": [
      "Dataloaders OK\n",
      "169 length of train_loader\n",
      "43 length of test_loader\n"
     ]
    }
   ],
   "source": [
    "# Create datasets and data loaders.\n",
    "train_dataset = datasets.ImageFolder(root=train_dir,transform=train_transform)\n",
    "train_loader = DataLoader(train_dataset,\n",
    "                          shuffle=True,\n",
    "                          batch_size=BATCH_SIZE)\n",
    "\n",
    "test_dataset = datasets.ImageFolder(root=test_dir,transform=test_transform)\n",
    "test_loader =  DataLoader(test_dataset,\n",
    "                          batch_size=BATCH_SIZE)\n",
    "\n",
    "\n",
    "print('Dataloaders OK')\n",
    "print(len(train_loader),\"length of train_loader\")\n",
    "print(len(test_loader),\"length of test_loader\")"
   ]
  },
  {
   "cell_type": "code",
   "execution_count": 7,
   "metadata": {},
   "outputs": [
    {
     "name": "stdout",
     "output_type": "stream",
     "text": [
      "Network OK\n"
     ]
    }
   ],
   "source": [
    "# Create network\n",
    "model = Net(n_classes=10)\n",
    "#if USE_CUDA:\n",
    "device = torch.device(\"cuda\" if USE_CUDA else \"cpu\")\n",
    "model = model.to(device)\n",
    "\n",
    "print('Network OK')"
   ]
  },
  {
   "cell_type": "code",
   "execution_count": 8,
   "metadata": {},
   "outputs": [],
   "source": [
    "# Define criterion, optimizer, and scheduler\n",
    "criterion = nn.CrossEntropyLoss()\n",
    "optimizer = Adam(model.parameters(), lr=LEARNING_RATE, weight_decay=WEIGHT_DECAY)\n",
    "scheduler = ExponentialLR(optimizer, gamma=MOMENTUM)"
   ]
  },
  {
   "cell_type": "code",
   "execution_count": 9,
   "metadata": {},
   "outputs": [],
   "source": [
    "# Helper function to organize main loop\n",
    "# This function is called for training and for testing at each epoch\n",
    "\n",
    "def run_epoch(net, optimizer, dataloader, criterion, train=True, cuda=USE_CUDA):\n",
    "    epoch_total_loss = 0\n",
    "    epoch_total_samples = 0\n",
    "    epoch_total_correct = 0\n",
    "\n",
    "    for sample in tqdm(dataloader):\n",
    "        img = sample[0]\n",
    "        label = sample[1]\n",
    "\n",
    "        if cuda:\n",
    "            img = img.to(device)\n",
    "            label = label.to(device)\n",
    "            \n",
    "        \n",
    "        result = net(img)\n",
    "        loss = criterion(result,label)\n",
    "        _, preds = torch.max(result, dim = 1)\n",
    "        accuracy = torch.tensor(torch.sum(preds==label).item() / len(preds))\n",
    "\n",
    "        if train: #Be aware that this function should work both for training and testing\n",
    "            loss.backward()\n",
    "            optimizer.step()\n",
    "            optimizer.zero_grad()\n",
    "            \n",
    "        \n",
    "        \n",
    "        with torch.no_grad():\n",
    "            epoch_total_samples += 1\n",
    "            epoch_total_loss += loss\n",
    "            epoch_total_correct += accuracy\n",
    "\n",
    "    return epoch_total_loss / epoch_total_samples, epoch_total_correct / epoch_total_samples"
   ]
  },
  {
   "cell_type": "code",
   "execution_count": 10,
   "metadata": {},
   "outputs": [
    {
     "name": "stdout",
     "output_type": "stream",
     "text": [
      "----------------------------------------------------------------\n",
      "        Layer (type)               Output Shape         Param #\n",
      "================================================================\n",
      "            Conv2d-1           [-1, 32, 64, 64]             896\n",
      "       BatchNorm2d-2           [-1, 32, 64, 64]              64\n",
      "              ReLU-3           [-1, 32, 64, 64]               0\n",
      "         MaxPool2d-4           [-1, 32, 32, 32]               0\n",
      "            Conv2d-5           [-1, 64, 32, 32]          18,496\n",
      "       BatchNorm2d-6           [-1, 64, 32, 32]             128\n",
      "              ReLU-7           [-1, 64, 32, 32]               0\n",
      "         MaxPool2d-8           [-1, 64, 16, 16]               0\n",
      "            Linear-9                  [-1, 256]       4,194,560\n",
      "             ReLU-10                  [-1, 256]               0\n",
      "           Linear-11                   [-1, 10]           2,570\n",
      "================================================================\n",
      "Total params: 4,216,714\n",
      "Trainable params: 4,216,714\n",
      "Non-trainable params: 0\n",
      "----------------------------------------------------------------\n",
      "Input size (MB): 0.05\n",
      "Forward/backward pass size (MB): 4.88\n",
      "Params size (MB): 16.09\n",
      "Estimated Total Size (MB): 21.01\n",
      "----------------------------------------------------------------\n"
     ]
    }
   ],
   "source": [
    "# Summarization of CNN model.\n",
    "summary(model,(3,64,64))"
   ]
  },
  {
   "cell_type": "code",
   "execution_count": 11,
   "metadata": {},
   "outputs": [
    {
     "name": "stderr",
     "output_type": "stream",
     "text": [
      "  0%|          | 0/169 [00:00<?, ?it/s]"
     ]
    },
    {
     "name": "stdout",
     "output_type": "stream",
     "text": [
      "\n",
      "\n",
      "Running epoch 1 of 20...\n",
      "\n"
     ]
    },
    {
     "name": "stderr",
     "output_type": "stream",
     "text": [
      "100%|██████████| 169/169 [00:14<00:00, 12.06it/s]\n",
      "100%|██████████| 43/43 [00:02<00:00, 15.76it/s]\n"
     ]
    },
    {
     "name": "stdout",
     "output_type": "stream",
     "text": [
      "\n",
      "Epoch 1 validation results: Loss=0.6943233013153076 | Accuracy=0.7730135321617126\n",
      "\n"
     ]
    },
    {
     "name": "stderr",
     "output_type": "stream",
     "text": [
      "  1%|          | 2/169 [00:00<00:14, 11.87it/s]"
     ]
    },
    {
     "name": "stdout",
     "output_type": "stream",
     "text": [
      "\n",
      "\n",
      "Running epoch 2 of 20...\n",
      "\n"
     ]
    },
    {
     "name": "stderr",
     "output_type": "stream",
     "text": [
      "100%|██████████| 169/169 [00:14<00:00, 12.03it/s]\n",
      "100%|██████████| 43/43 [00:02<00:00, 15.61it/s]\n"
     ]
    },
    {
     "name": "stdout",
     "output_type": "stream",
     "text": [
      "\n",
      "Epoch 2 validation results: Loss=0.5926827192306519 | Accuracy=0.7868216633796692\n",
      "\n"
     ]
    },
    {
     "name": "stderr",
     "output_type": "stream",
     "text": [
      "  1%|          | 2/169 [00:00<00:14, 11.37it/s]"
     ]
    },
    {
     "name": "stdout",
     "output_type": "stream",
     "text": [
      "\n",
      "\n",
      "Running epoch 3 of 20...\n",
      "\n"
     ]
    },
    {
     "name": "stderr",
     "output_type": "stream",
     "text": [
      "100%|██████████| 169/169 [00:13<00:00, 12.08it/s]\n",
      "100%|██████████| 43/43 [00:02<00:00, 15.74it/s]\n"
     ]
    },
    {
     "name": "stdout",
     "output_type": "stream",
     "text": [
      "\n",
      "Epoch 3 validation results: Loss=0.5736287832260132 | Accuracy=0.7980862259864807\n",
      "\n"
     ]
    },
    {
     "name": "stderr",
     "output_type": "stream",
     "text": [
      "  1%|          | 2/169 [00:00<00:13, 12.03it/s]"
     ]
    },
    {
     "name": "stdout",
     "output_type": "stream",
     "text": [
      "\n",
      "\n",
      "Running epoch 4 of 20...\n",
      "\n"
     ]
    },
    {
     "name": "stderr",
     "output_type": "stream",
     "text": [
      "100%|██████████| 169/169 [00:14<00:00, 12.02it/s]\n",
      "100%|██████████| 43/43 [00:02<00:00, 15.70it/s]\n"
     ]
    },
    {
     "name": "stdout",
     "output_type": "stream",
     "text": [
      "\n",
      "Epoch 4 validation results: Loss=0.47595569491386414 | Accuracy=0.8375120759010315\n",
      "\n"
     ]
    },
    {
     "name": "stderr",
     "output_type": "stream",
     "text": [
      "  1%|          | 2/169 [00:00<00:13, 12.03it/s]"
     ]
    },
    {
     "name": "stdout",
     "output_type": "stream",
     "text": [
      "\n",
      "\n",
      "Running epoch 5 of 20...\n",
      "\n"
     ]
    },
    {
     "name": "stderr",
     "output_type": "stream",
     "text": [
      "100%|██████████| 169/169 [00:14<00:00, 12.05it/s]\n",
      "100%|██████████| 43/43 [00:02<00:00, 15.63it/s]\n"
     ]
    },
    {
     "name": "stdout",
     "output_type": "stream",
     "text": [
      "\n",
      "Epoch 5 validation results: Loss=0.41516250371932983 | Accuracy=0.8576792478561401\n",
      "\n"
     ]
    },
    {
     "name": "stderr",
     "output_type": "stream",
     "text": [
      "  1%|          | 2/169 [00:00<00:13, 12.03it/s]"
     ]
    },
    {
     "name": "stdout",
     "output_type": "stream",
     "text": [
      "\n",
      "\n",
      "Running epoch 6 of 20...\n",
      "\n"
     ]
    },
    {
     "name": "stderr",
     "output_type": "stream",
     "text": [
      "100%|██████████| 169/169 [00:14<00:00, 12.05it/s]\n",
      "100%|██████████| 43/43 [00:02<00:00, 15.64it/s]\n"
     ]
    },
    {
     "name": "stdout",
     "output_type": "stream",
     "text": [
      "\n",
      "Epoch 6 validation results: Loss=0.39349716901779175 | Accuracy=0.8670058250427246\n",
      "\n"
     ]
    },
    {
     "name": "stderr",
     "output_type": "stream",
     "text": [
      "  1%|          | 2/169 [00:00<00:13, 12.03it/s]"
     ]
    },
    {
     "name": "stdout",
     "output_type": "stream",
     "text": [
      "\n",
      "\n",
      "Running epoch 7 of 20...\n",
      "\n"
     ]
    },
    {
     "name": "stderr",
     "output_type": "stream",
     "text": [
      "100%|██████████| 169/169 [00:13<00:00, 12.07it/s]\n",
      "100%|██████████| 43/43 [00:02<00:00, 15.77it/s]\n"
     ]
    },
    {
     "name": "stdout",
     "output_type": "stream",
     "text": [
      "\n",
      "Epoch 7 validation results: Loss=0.39847466349601746 | Accuracy=0.8617368936538696\n",
      "\n"
     ]
    },
    {
     "name": "stderr",
     "output_type": "stream",
     "text": [
      "  1%|          | 2/169 [00:00<00:13, 12.00it/s]"
     ]
    },
    {
     "name": "stdout",
     "output_type": "stream",
     "text": [
      "\n",
      "\n",
      "Running epoch 8 of 20...\n",
      "\n"
     ]
    },
    {
     "name": "stderr",
     "output_type": "stream",
     "text": [
      "100%|██████████| 169/169 [00:14<00:00, 12.05it/s]\n",
      "100%|██████████| 43/43 [00:02<00:00, 15.68it/s]\n"
     ]
    },
    {
     "name": "stdout",
     "output_type": "stream",
     "text": [
      "\n",
      "Epoch 8 validation results: Loss=0.3391025960445404 | Accuracy=0.8813590407371521\n",
      "\n"
     ]
    },
    {
     "name": "stderr",
     "output_type": "stream",
     "text": [
      "  1%|          | 2/169 [00:00<00:13, 12.08it/s]"
     ]
    },
    {
     "name": "stdout",
     "output_type": "stream",
     "text": [
      "\n",
      "\n",
      "Running epoch 9 of 20...\n",
      "\n"
     ]
    },
    {
     "name": "stderr",
     "output_type": "stream",
     "text": [
      "100%|██████████| 169/169 [00:13<00:00, 12.13it/s]\n",
      "100%|██████████| 43/43 [00:02<00:00, 15.89it/s]\n"
     ]
    },
    {
     "name": "stdout",
     "output_type": "stream",
     "text": [
      "\n",
      "Epoch 9 validation results: Loss=0.33225002884864807 | Accuracy=0.8809956312179565\n",
      "\n"
     ]
    },
    {
     "name": "stderr",
     "output_type": "stream",
     "text": [
      "  1%|          | 2/169 [00:00<00:13, 12.13it/s]"
     ]
    },
    {
     "name": "stdout",
     "output_type": "stream",
     "text": [
      "\n",
      "\n",
      "Running epoch 10 of 20...\n",
      "\n"
     ]
    },
    {
     "name": "stderr",
     "output_type": "stream",
     "text": [
      "100%|██████████| 169/169 [00:13<00:00, 12.14it/s]\n",
      "100%|██████████| 43/43 [00:02<00:00, 15.90it/s]\n"
     ]
    },
    {
     "name": "stdout",
     "output_type": "stream",
     "text": [
      "\n",
      "Epoch 10 validation results: Loss=0.32669904828071594 | Accuracy=0.8835998177528381\n",
      "\n"
     ]
    },
    {
     "name": "stderr",
     "output_type": "stream",
     "text": [
      "  1%|          | 2/169 [00:00<00:13, 12.06it/s]"
     ]
    },
    {
     "name": "stdout",
     "output_type": "stream",
     "text": [
      "\n",
      "\n",
      "Running epoch 11 of 20...\n",
      "\n"
     ]
    },
    {
     "name": "stderr",
     "output_type": "stream",
     "text": [
      "100%|██████████| 169/169 [00:13<00:00, 12.12it/s]\n",
      "100%|██████████| 43/43 [00:02<00:00, 15.86it/s]\n"
     ]
    },
    {
     "name": "stdout",
     "output_type": "stream",
     "text": [
      "\n",
      "Epoch 11 validation results: Loss=0.31503692269325256 | Accuracy=0.8944404125213623\n",
      "\n"
     ]
    },
    {
     "name": "stderr",
     "output_type": "stream",
     "text": [
      "  1%|          | 2/169 [00:00<00:13, 12.18it/s]"
     ]
    },
    {
     "name": "stdout",
     "output_type": "stream",
     "text": [
      "\n",
      "\n",
      "Running epoch 12 of 20...\n",
      "\n"
     ]
    },
    {
     "name": "stderr",
     "output_type": "stream",
     "text": [
      "100%|██████████| 169/169 [00:13<00:00, 12.17it/s]\n",
      "100%|██████████| 43/43 [00:02<00:00, 15.88it/s]\n"
     ]
    },
    {
     "name": "stdout",
     "output_type": "stream",
     "text": [
      "\n",
      "Epoch 12 validation results: Loss=0.2700815498828888 | Accuracy=0.9073401093482971\n",
      "\n"
     ]
    },
    {
     "name": "stderr",
     "output_type": "stream",
     "text": [
      "  1%|          | 2/169 [00:00<00:13, 12.06it/s]"
     ]
    },
    {
     "name": "stdout",
     "output_type": "stream",
     "text": [
      "\n",
      "\n",
      "Running epoch 13 of 20...\n",
      "\n"
     ]
    },
    {
     "name": "stderr",
     "output_type": "stream",
     "text": [
      "100%|██████████| 169/169 [00:13<00:00, 12.09it/s]\n",
      "100%|██████████| 43/43 [00:02<00:00, 15.86it/s]\n"
     ]
    },
    {
     "name": "stdout",
     "output_type": "stream",
     "text": [
      "\n",
      "Epoch 13 validation results: Loss=0.28852033615112305 | Accuracy=0.9061893820762634\n",
      "\n"
     ]
    },
    {
     "name": "stderr",
     "output_type": "stream",
     "text": [
      "  1%|          | 2/169 [00:00<00:13, 12.15it/s]"
     ]
    },
    {
     "name": "stdout",
     "output_type": "stream",
     "text": [
      "\n",
      "\n",
      "Running epoch 14 of 20...\n",
      "\n"
     ]
    },
    {
     "name": "stderr",
     "output_type": "stream",
     "text": [
      "100%|██████████| 169/169 [00:13<00:00, 12.16it/s]\n",
      "100%|██████████| 43/43 [00:02<00:00, 15.85it/s]\n"
     ]
    },
    {
     "name": "stdout",
     "output_type": "stream",
     "text": [
      "\n",
      "Epoch 14 validation results: Loss=0.29184502363204956 | Accuracy=0.8951671719551086\n",
      "\n"
     ]
    },
    {
     "name": "stderr",
     "output_type": "stream",
     "text": [
      "  1%|          | 2/169 [00:00<00:13, 12.12it/s]"
     ]
    },
    {
     "name": "stdout",
     "output_type": "stream",
     "text": [
      "\n",
      "\n",
      "Running epoch 15 of 20...\n",
      "\n"
     ]
    },
    {
     "name": "stderr",
     "output_type": "stream",
     "text": [
      "100%|██████████| 169/169 [00:13<00:00, 12.19it/s]\n",
      "100%|██████████| 43/43 [00:02<00:00, 15.85it/s]\n"
     ]
    },
    {
     "name": "stdout",
     "output_type": "stream",
     "text": [
      "\n",
      "Epoch 15 validation results: Loss=0.2586457133293152 | Accuracy=0.910973846912384\n",
      "\n"
     ]
    },
    {
     "name": "stderr",
     "output_type": "stream",
     "text": [
      "  1%|          | 2/169 [00:00<00:13, 12.07it/s]"
     ]
    },
    {
     "name": "stdout",
     "output_type": "stream",
     "text": [
      "\n",
      "\n",
      "Running epoch 16 of 20...\n",
      "\n"
     ]
    },
    {
     "name": "stderr",
     "output_type": "stream",
     "text": [
      "100%|██████████| 169/169 [00:13<00:00, 12.23it/s]\n",
      "100%|██████████| 43/43 [00:02<00:00, 15.85it/s]\n"
     ]
    },
    {
     "name": "stdout",
     "output_type": "stream",
     "text": [
      "\n",
      "Epoch 16 validation results: Loss=0.26690834760665894 | Accuracy=0.9111555218696594\n",
      "\n"
     ]
    },
    {
     "name": "stderr",
     "output_type": "stream",
     "text": [
      "  1%|          | 2/169 [00:00<00:13, 12.13it/s]"
     ]
    },
    {
     "name": "stdout",
     "output_type": "stream",
     "text": [
      "\n",
      "\n",
      "Running epoch 17 of 20...\n",
      "\n"
     ]
    },
    {
     "name": "stderr",
     "output_type": "stream",
     "text": [
      "100%|██████████| 169/169 [00:13<00:00, 12.21it/s]\n",
      "100%|██████████| 43/43 [00:02<00:00, 15.88it/s]\n"
     ]
    },
    {
     "name": "stdout",
     "output_type": "stream",
     "text": [
      "\n",
      "Epoch 17 validation results: Loss=0.25182271003723145 | Accuracy=0.9120639562606812\n",
      "\n"
     ]
    },
    {
     "name": "stderr",
     "output_type": "stream",
     "text": [
      "  1%|          | 2/169 [00:00<00:13, 12.06it/s]"
     ]
    },
    {
     "name": "stdout",
     "output_type": "stream",
     "text": [
      "\n",
      "\n",
      "Running epoch 18 of 20...\n",
      "\n"
     ]
    },
    {
     "name": "stderr",
     "output_type": "stream",
     "text": [
      "100%|██████████| 169/169 [00:13<00:00, 12.24it/s]\n",
      "100%|██████████| 43/43 [00:02<00:00, 15.91it/s]\n"
     ]
    },
    {
     "name": "stdout",
     "output_type": "stream",
     "text": [
      "\n",
      "Epoch 18 validation results: Loss=0.24900533258914948 | Accuracy=0.9147892594337463\n",
      "\n"
     ]
    },
    {
     "name": "stderr",
     "output_type": "stream",
     "text": [
      "  1%|          | 2/169 [00:00<00:13, 12.06it/s]"
     ]
    },
    {
     "name": "stdout",
     "output_type": "stream",
     "text": [
      "\n",
      "\n",
      "Running epoch 19 of 20...\n",
      "\n"
     ]
    },
    {
     "name": "stderr",
     "output_type": "stream",
     "text": [
      "100%|██████████| 169/169 [00:13<00:00, 12.23it/s]\n",
      "100%|██████████| 43/43 [00:02<00:00, 15.96it/s]\n"
     ]
    },
    {
     "name": "stdout",
     "output_type": "stream",
     "text": [
      "\n",
      "Epoch 19 validation results: Loss=0.24062465131282806 | Accuracy=0.9176962375640869\n",
      "\n"
     ]
    },
    {
     "name": "stderr",
     "output_type": "stream",
     "text": [
      "  1%|          | 2/169 [00:00<00:13, 12.24it/s]"
     ]
    },
    {
     "name": "stdout",
     "output_type": "stream",
     "text": [
      "\n",
      "\n",
      "Running epoch 20 of 20...\n",
      "\n"
     ]
    },
    {
     "name": "stderr",
     "output_type": "stream",
     "text": [
      "100%|██████████| 169/169 [00:13<00:00, 12.22it/s]\n",
      "100%|██████████| 43/43 [00:02<00:00, 15.89it/s]\n"
     ]
    },
    {
     "name": "stdout",
     "output_type": "stream",
     "text": [
      "\n",
      "Epoch 20 validation results: Loss=0.24691486358642578 | Accuracy=0.9127907156944275\n",
      "\n"
     ]
    },
    {
     "data": {
      "image/png": "[encoded data removed]",
      "text/plain": [
       "<Figure size 864x576 with 1 Axes>"
      ]
     },
     "metadata": {
      "needs_background": "light"
     },
     "output_type": "display_data"
    },
    {
     "data": {
      "image/png": "[encoded data removed]",
      "text/plain": [
       "<Figure size 864x576 with 1 Axes>"
      ]
     },
     "metadata": {
      "needs_background": "light"
     },
     "output_type": "display_data"
    }
   ],
   "source": [
    "# Main loop\n",
    "\n",
    "train_loss = []\n",
    "train_accuracy = []\n",
    "test_loss = []\n",
    "test_accuracy = []\n",
    "epochs = []\n",
    "\n",
    "for epoch in range(1, NUM_EPOCHS+1):\n",
    "    print(f'\\n\\nRunning epoch {epoch} of {NUM_EPOCHS}...\\n')\n",
    "    epochs.append(epoch)\n",
    "\n",
    "    #-------------------------Train-------------------------\n",
    "    # Set network train/test mode to 'train' in the next line\n",
    "    model.train()\n",
    "    \n",
    "    loss, accuracy = run_epoch(model,optimizer,train_loader,criterion,train=True,cuda=USE_CUDA)\n",
    "    train_loss.append(loss.cpu())\n",
    "    train_accuracy.append(accuracy.cpu())\n",
    "    \n",
    "    # Update learning rate with scheduler in the next line\n",
    "    scheduler.step()\n",
    "    \n",
    "    \n",
    "\n",
    "    #-------------------------Test--------------------------\n",
    "    # Set network train/test mode to 'test' in the next line\n",
    "    model.eval()\n",
    "    \n",
    "    with torch.no_grad():\n",
    "        loss, accuracy = run_epoch(model,optimizer,test_loader,criterion,train=False,cuda=USE_CUDA)\n",
    "    test_loss.append(loss.cpu())\n",
    "    test_accuracy.append(accuracy.cpu())\n",
    "    print(f'\\nEpoch {epoch} validation results: Loss={loss.cpu()} | Accuracy={accuracy.cpu()}\\n')\n",
    "\n",
    "\n",
    "    \n",
    "    # Plot and save\n",
    "    plt.figure(figsize=(12, 8), num=1)\n",
    "    plt.clf()\n",
    "    plt.plot(epochs, train_loss, label='Train')\n",
    "    plt.plot(epochs, test_loss, label='Test')\n",
    "    plt.legend()\n",
    "    plt.grid()\n",
    "    plt.title('Cross entropy loss')\n",
    "    plt.xlabel('Epoch')\n",
    "    plt.ylabel('Loss')\n",
    "    plt.savefig('outputs/01-loss.pdf')\n",
    "\n",
    "    plt.figure(figsize=(12, 8), num=2)\n",
    "    plt.clf()\n",
    "    plt.plot(epochs, train_accuracy, label='Train')\n",
    "    plt.plot(epochs, test_accuracy, label='Test')\n",
    "    plt.legend()\n",
    "    plt.grid()\n",
    "    plt.title('Accuracy')\n",
    "    plt.xlabel('Epoch')\n",
    "    plt.ylabel('Accuracy')\n",
    "    plt.savefig('outputs/02-accuracy.pdf')"
   ]
  },
  {
   "cell_type": "code",
   "execution_count": 12,
   "metadata": {},
   "outputs": [
    {
     "name": "stdout",
     "output_type": "stream",
     "text": [
      "Final train loss: 0.16579748690128326\n",
      "Final test loss: 0.24691486358642578\n",
      "Final train accuracy: 0.9436058402061462\n",
      "Final test accuracy: 0.9127907156944275\n"
     ]
    }
   ],
   "source": [
    "print(f'Final train loss: {train_loss[-1]}')\n",
    "print(f'Final test loss: {test_loss[-1]}')\n",
    "print(f'Final train accuracy: {train_accuracy[-1]}')\n",
    "print(f'Final test accuracy: {test_accuracy[-1]}')"
   ]
  },
  {
   "cell_type": "code",
   "execution_count": null,
   "metadata": {},
   "outputs": [],
   "source": []
  }
 ],
 "metadata": {
  "kernelspec": {
   "display_name": "Python 3",
   "language": "python",
   "name": "python3"
  },
  "language_info": {
   "codemirror_mode": {
    "name": "ipython",
    "version": 3
   },
   "file_extension": ".py",
   "mimetype": "text/x-python",
   "name": "python",
   "nbconvert_exporter": "python",
   "pygments_lexer": "ipython3",
   "version": "3.8.5"
  }
 },
 "nbformat": 4,
 "nbformat_minor": 5
}
